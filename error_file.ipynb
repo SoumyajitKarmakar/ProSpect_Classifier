{
 "cells": [
  {
   "cell_type": "code",
   "execution_count": 1,
   "metadata": {},
   "outputs": [],
   "source": [
    "import json\n",
    "import pandas as pd\n",
    "import matplotlib.pyplot as plt\n",
    "\n",
    "file_path = \"/home/soumyajit/ProSpect_Classifier/ProSpect_Classifier/misc/error_dict.json\"\n",
    "\n",
    "with open(file_path) as f:\n",
    "    data = json.load(f)"
   ]
  },
  {
   "cell_type": "code",
   "execution_count": 2,
   "metadata": {},
   "outputs": [
    {
     "data": {
      "text/plain": [
       "4500"
      ]
     },
     "execution_count": 2,
     "metadata": {},
     "output_type": "execute_result"
    }
   ],
   "source": [
    "75*60"
   ]
  },
  {
   "cell_type": "code",
   "execution_count": 3,
   "metadata": {},
   "outputs": [],
   "source": [
    "df = pd.DataFrame(data)\n",
    "# df=df[:-900]"
   ]
  },
  {
   "cell_type": "code",
   "execution_count": 4,
   "metadata": {},
   "outputs": [
    {
     "data": {
      "text/plain": [
       "37875"
      ]
     },
     "execution_count": 4,
     "metadata": {},
     "output_type": "execute_result"
    }
   ],
   "source": [
    "len(df)"
   ]
  },
  {
   "cell_type": "code",
   "execution_count": 5,
   "metadata": {},
   "outputs": [],
   "source": [
    "from sklearn.metrics import accuracy_score, precision_score, recall_score, f1_score, confusion_matrix, classification_report\n",
    "\n",
    "\n",
    "accuracy = accuracy_score(df[\"predict\"], df[\"actual\"])\n",
    "precision = precision_score(df[\"predict\"], df[\"actual\"], average='weighted')\n",
    "conf_matrix = confusion_matrix(df[\"predict\"], df[\"actual\"])\n",
    "recall = recall_score(df[\"predict\"], df[\"actual\"],average='weighted')\n",
    "f1 = f1_score(df[\"predict\"], df[\"actual\"] , average='weighted')"
   ]
  },
  {
   "cell_type": "code",
   "execution_count": 6,
   "metadata": {},
   "outputs": [
    {
     "name": "stdout",
     "output_type": "stream",
     "text": [
      "Accuracy: 0.782072607260726\n",
      "Precision: 0.8177164611320115\n",
      "Recall: 0.782072607260726\n",
      "F1 Score: 0.7899349153527949\n",
      "Confusion Matrix:\n",
      " [[762   0  24 ...   0   0   0]\n",
      " [  0 593   0 ...   0   0   0]\n",
      " [  0   0 846 ...   0   0   0]\n",
      " ...\n",
      " [  0   0   0 ... 614   0   0]\n",
      " [  0   0   0 ...   3 871   0]\n",
      " [  0   0   0 ...   0   0 652]]\n",
      "\n",
      "Classification Report:\n",
      "               precision    recall  f1-score   support\n",
      "\n",
      "           5       0.78      0.58      0.67      1314\n",
      "           6       0.84      0.89      0.87       665\n",
      "          12       0.82      0.96      0.88       881\n",
      "          16       0.96      0.81      0.88       979\n",
      "          24       0.40      0.75      0.52       445\n",
      "          30       0.88      0.85      0.87       809\n",
      "          32       0.51      0.81      0.62       430\n",
      "          35       0.92      0.88      0.90       630\n",
      "          44       0.59      0.80      0.68       558\n",
      "          45       0.59      0.73      0.66       789\n",
      "          51       0.20      0.93      0.33       154\n",
      "          54       0.76      0.72      0.74       791\n",
      "          56       0.43      0.57      0.49       709\n",
      "          62       0.82      0.89      0.85       833\n",
      "          65       0.87      0.76      0.81       892\n",
      "          68       0.79      0.50      0.61      1210\n",
      "          69       0.88      0.86      0.87       705\n",
      "          70       0.69      0.80      0.74       584\n",
      "          78       0.81      0.90      0.86       484\n",
      "          82       0.85      0.86      0.86       770\n",
      "          84       0.42      0.84      0.56       288\n",
      "          88       0.74      0.58      0.65      1147\n",
      "          89       0.91      0.68      0.78      1068\n",
      "          90       0.86      0.77      0.81       784\n",
      "          97       0.62      0.59      0.60       809\n",
      "         124       0.77      0.53      0.63      1093\n",
      "         141       0.67      0.79      0.73       638\n",
      "         142       0.96      0.85      0.90      1005\n",
      "         155       0.75      0.96      0.84       552\n",
      "         165       0.93      0.92      0.93       808\n",
      "         167       0.92      0.81      0.86       763\n",
      "         172       0.95      0.85      0.89       905\n",
      "         178       0.97      0.89      0.93       808\n",
      "         179       0.89      0.83      0.86       921\n",
      "         180       0.90      0.83      0.86       830\n",
      "         183       0.35      0.55      0.43       512\n",
      "         191       0.95      0.84      0.89       711\n",
      "         192       1.00      0.85      0.91       883\n",
      "         195       0.99      0.75      0.85       908\n",
      "         198       0.50      0.81      0.62       538\n",
      "         212       0.89      0.75      0.81       814\n",
      "         213       0.67      0.95      0.78       566\n",
      "         223       0.92      0.85      0.88       801\n",
      "         224       0.96      0.83      0.89       711\n",
      "         236       0.81      0.60      0.69       978\n",
      "         242       0.84      1.00      0.91       444\n",
      "         249       0.95      0.77      0.85       737\n",
      "         276       0.93      1.00      0.96       615\n",
      "         279       0.91      0.93      0.92       932\n",
      "         285       0.99      0.97      0.98       674\n",
      "\n",
      "    accuracy                           0.78     37875\n",
      "   macro avg       0.79      0.80      0.78     37875\n",
      "weighted avg       0.82      0.78      0.79     37875\n",
      "\n"
     ]
    }
   ],
   "source": [
    "print(\"Accuracy:\", accuracy)\n",
    "print(\"Precision:\", precision)\n",
    "print(\"Recall:\", recall)\n",
    "print(\"F1 Score:\", f1)\n",
    "print(\"Confusion Matrix:\\n\", conf_matrix)\n",
    "print(\"\\nClassification Report:\\n\", classification_report(df[\"predict\"], df[\"actual\"]))"
   ]
  },
  {
   "cell_type": "code",
   "execution_count": 24,
   "metadata": {},
   "outputs": [],
   "source": [
    "file_path = \"/home/soumyajit/ProSpect_Classifier/ProSpect_Classifier/class_embeddings_file/liw_200_0.005/190_error_dict.json\"\n",
    "\n",
    "with open(file_path) as f:\n",
    "    data = json.load(f)\n",
    "    \n",
    "    \n",
    "df = pd.DataFrame(data)\n",
    "df = df[:-150]"
   ]
  },
  {
   "cell_type": "code",
   "execution_count": 25,
   "metadata": {},
   "outputs": [],
   "source": [
    "accuracy = accuracy_score(df[\"predict\"], df[\"actual\"])\n",
    "precision = precision_score(df[\"predict\"], df[\"actual\"], average='weighted')\n",
    "conf_matrix = confusion_matrix(df[\"predict\"], df[\"actual\"])\n",
    "recall = recall_score(df[\"predict\"], df[\"actual\"],average='weighted')\n",
    "f1 = f1_score(df[\"predict\"], df[\"actual\"] , average='weighted')"
   ]
  },
  {
   "cell_type": "code",
   "execution_count": 26,
   "metadata": {},
   "outputs": [
    {
     "name": "stdout",
     "output_type": "stream",
     "text": [
      "Accuracy: 0.7837777777777778\n",
      "Precision: 0.815504616371465\n",
      "Recall: 0.7837777777777778\n",
      "F1 Score: 0.778223249008663\n",
      "Confusion Matrix:\n",
      " [[402   0   0   0   0   0   0]\n",
      " [  2 449   3   0  15   2  41]\n",
      " [ 17  40 652  11  13  26  81]\n",
      " [  6   0   0 591   1  82   3]\n",
      " [ 98 163  60  34 511  41  91]\n",
      " [ 18   3   0  67   0 505  12]\n",
      " [ 27   5   5   2   0   4 417]]\n",
      "\n",
      "Classification Report:\n",
      "               precision    recall  f1-score   support\n",
      "\n",
      "           0       0.71      1.00      0.83       402\n",
      "           1       0.68      0.88      0.77       512\n",
      "           2       0.91      0.78      0.84       840\n",
      "           3       0.84      0.87      0.85       683\n",
      "           4       0.95      0.51      0.66       998\n",
      "           5       0.77      0.83      0.80       605\n",
      "           6       0.65      0.91      0.75       460\n",
      "\n",
      "    accuracy                           0.78      4500\n",
      "   macro avg       0.78      0.82      0.79      4500\n",
      "weighted avg       0.82      0.78      0.78      4500\n",
      "\n"
     ]
    }
   ],
   "source": [
    "print(\"Accuracy:\", accuracy)\n",
    "print(\"Precision:\", precision)\n",
    "print(\"Recall:\", recall)\n",
    "print(\"F1 Score:\", f1)\n",
    "print(\"Confusion Matrix:\\n\", conf_matrix)\n",
    "print(\"\\nClassification Report:\\n\", classification_report(df[\"predict\"], df[\"actual\"]))"
   ]
  },
  {
   "cell_type": "code",
   "execution_count": 5,
   "metadata": {},
   "outputs": [
    {
     "data": {
      "text/plain": [
       "74      0.893333\n",
       "149     0.946667\n",
       "224     0.853333\n",
       "299     0.866667\n",
       "374     0.853333\n",
       "449     0.893333\n",
       "524     0.880000\n",
       "599     0.840000\n",
       "674     0.866667\n",
       "749     0.893333\n",
       "824     0.880000\n",
       "899     0.826667\n",
       "974     0.853333\n",
       "1049    0.906667\n",
       "1124    0.813333\n",
       "1199    0.826667\n",
       "1274    0.960000\n",
       "1349    0.853333\n",
       "1424    0.880000\n",
       "1499    0.933333\n",
       "1574    0.840000\n",
       "1649    0.826667\n",
       "1724    0.813333\n",
       "1799    0.933333\n",
       "dtype: float64"
      ]
     },
     "execution_count": 5,
     "metadata": {},
     "output_type": "execute_result"
    }
   ],
   "source": [
    "\"\"\"Standard error mean calculation \"\"\"\n",
    "\n",
    "def calculate_accuracy(sub_df):\n",
    "    correct_predictions = (sub_df).sum()\n",
    "    total_predictions = len(sub_df)\n",
    "    return correct_predictions / total_predictions\n",
    "\n",
    "\n",
    "window_size = 75\n",
    "\n",
    "x = (df['actual'] == df['predict'])\n",
    "\n",
    "rolling_accuracy = x.rolling(window=window_size)\n",
    "rolling_accuracy=rolling_accuracy.apply(calculate_accuracy, raw=True)\n",
    "\n",
    "rolling_accuracy[74::75]"
   ]
  },
  {
   "cell_type": "code",
   "execution_count": 6,
   "metadata": {},
   "outputs": [
    {
     "name": "stdout",
     "output_type": "stream",
     "text": [
      "24\n",
      "87.22222222222223\n"
     ]
    }
   ],
   "source": [
    "z = rolling_accuracy[74::75]\n",
    "\n",
    "z=z*100\n",
    "# z=z[:60-len(z)]\n",
    "print(len(z))\n",
    "\n",
    "print(z.mean())"
   ]
  },
  {
   "cell_type": "code",
   "execution_count": 7,
   "metadata": {},
   "outputs": [
    {
     "data": {
      "text/plain": [
       "1.6363552292256074"
      ]
     },
     "execution_count": 7,
     "metadata": {},
     "output_type": "execute_result"
    }
   ],
   "source": [
    "import numpy as np\n",
    "\n",
    "1.96 * np.std(z)/np.sqrt(len(z))"
   ]
  },
  {
   "cell_type": "code",
   "execution_count": 8,
   "metadata": {},
   "outputs": [
    {
     "data": {
      "image/png": "[encoded data removed]",
      "text/plain": [
       "<Figure size 640x480 with 1 Axes>"
      ]
     },
     "metadata": {},
     "output_type": "display_data"
    }
   ],
   "source": [
    "plt.plot(range(len(z)), rolling_accuracy[74::75], marker='o')\n",
    "plt.title('Accuracy over 60 Epochs')\n",
    "plt.xlabel('Epoch')\n",
    "plt.ylabel('Accuracy')\n",
    "plt.ylim(0, 1)\n",
    "plt.grid(True)\n",
    "plt.show()"
   ]
  },
  {
   "cell_type": "code",
   "execution_count": 37,
   "metadata": {},
   "outputs": [
    {
     "data": {
      "text/plain": [
       "0.7052631578947368"
      ]
     },
     "execution_count": 37,
     "metadata": {},
     "output_type": "execute_result"
    }
   ],
   "source": [
    "i = 0\n",
    "\n",
    "n = len(df[(df['actual']==i) & (df['predict']==i) ])\n",
    "d = len(df[(df['actual']==i)])\n",
    "\n",
    "n/d"
   ]
  }
 ],
 "metadata": {
  "kernelspec": {
   "display_name": "ldm",
   "language": "python",
   "name": "python3"
  },
  "language_info": {
   "codemirror_mode": {
    "name": "ipython",
    "version": 3
   },
   "file_extension": ".py",
   "mimetype": "text/x-python",
   "name": "python",
   "nbconvert_exporter": "python",
   "pygments_lexer": "ipython3",
   "version": "3.8.10"
  }
 },
 "nbformat": 4,
 "nbformat_minor": 2
}
